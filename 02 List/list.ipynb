{
 "cells": [
  {
   "cell_type": "code",
   "execution_count": 1,
   "id": "2f96f983",
   "metadata": {},
   "outputs": [],
   "source": [
    "l = [10, 20, \"GFG\", 30, 40, 50, 30, True, False]\n",
    "l.append(25)"
   ]
  },
  {
   "cell_type": "code",
   "execution_count": 2,
   "id": "cd40aecd",
   "metadata": {},
   "outputs": [
    {
     "name": "stdout",
     "output_type": "stream",
     "text": [
      "[10, 20, 'GFG', 30, 40, 50, 30, True, False, 25]\n"
     ]
    }
   ],
   "source": [
    "print(l)"
   ]
  },
  {
   "cell_type": "code",
   "execution_count": 3,
   "id": "bd265565",
   "metadata": {},
   "outputs": [
    {
     "data": {
      "text/plain": [
       "30"
      ]
     },
     "execution_count": 3,
     "metadata": {},
     "output_type": "execute_result"
    }
   ],
   "source": [
    "l[3]"
   ]
  },
  {
   "cell_type": "code",
   "execution_count": 11,
   "id": "0d0a0316",
   "metadata": {},
   "outputs": [
    {
     "name": "stdout",
     "output_type": "stream",
     "text": [
      "<class 'list'>\n"
     ]
    }
   ],
   "source": [
    "# getting type of list\n",
    "print(type(l))  # Output: <class 'list'>"
   ]
  },
  {
   "cell_type": "code",
   "execution_count": 13,
   "id": "def9dae4",
   "metadata": {},
   "outputs": [
    {
     "name": "stdout",
     "output_type": "stream",
     "text": [
      "[10, 20, 'GFG', 30, 40, 50, 30, True, False, 25, 25, 30, 40, 50, 30, 25, 30, 40, 50, 30]\n"
     ]
    }
   ],
   "source": [
    "l.extend([25, 30, 40, 50, 30])\n",
    "print(l)\n"
   ]
  },
  {
   "cell_type": "code",
   "execution_count": 22,
   "id": "28bcf0d5",
   "metadata": {},
   "outputs": [
    {
     "name": "stdout",
     "output_type": "stream",
     "text": [
      "50\n"
     ]
    }
   ],
   "source": [
    "arr = [10,20,20]\n",
    "print(sum(arr))"
   ]
  },
  {
   "cell_type": "code",
   "execution_count": 20,
   "id": "c5b8f374",
   "metadata": {},
   "outputs": [
    {
     "name": "stdout",
     "output_type": "stream",
     "text": [
      "[20, 20, 10]\n"
     ]
    }
   ],
   "source": [
    "arr.reverse()\n",
    "print(arr)  # Output: [20, 20, 10]"
   ]
  },
  {
   "cell_type": "code",
   "execution_count": 18,
   "id": "478c8e3b",
   "metadata": {},
   "outputs": [
    {
     "name": "stdout",
     "output_type": "stream",
     "text": [
      "[20, 20, 10]\n"
     ]
    }
   ],
   "source": [
    "arr.__reversed__\n",
    "print(arr)  # Output: [20, 20, 10]\"\""
   ]
  },
  {
   "cell_type": "code",
   "execution_count": null,
   "id": "411bbc1f",
   "metadata": {},
   "outputs": [
    {
     "data": {
      "text/plain": [
       "<function list.__reversed__()>"
      ]
     },
     "execution_count": 24,
     "metadata": {},
     "output_type": "execute_result"
    }
   ],
   "source": []
  },
  {
   "cell_type": "code",
   "execution_count": null,
   "id": "b2704d10",
   "metadata": {},
   "outputs": [
    {
     "data": {
      "text/plain": [
       "[10, 20, 20]"
      ]
     },
     "execution_count": 25,
     "metadata": {},
     "output_type": "execute_result"
    }
   ],
   "source": []
  },
  {
   "cell_type": "code",
   "execution_count": 27,
   "id": "7a72c0be",
   "metadata": {},
   "outputs": [
    {
     "name": "stdout",
     "output_type": "stream",
     "text": [
      "30.0\n",
      "30.0\n"
     ]
    }
   ],
   "source": [
    "l = [10, 20, 30, 40, 50, 30]\n",
    "#  Average of list\n",
    "def average(l):\n",
    "    sum = 0\n",
    "    for i in l:\n",
    "        sum += i\n",
    "    n = len(l)\n",
    "    return sum / n\n",
    "print(average(l))  # Output: 30.0\n",
    "\n",
    "# or \n",
    "def ave(l):\n",
    "    return sum(l) / len(l)\n",
    "print(ave(l))  # Output: 30.0\n",
    "    "
   ]
  },
  {
   "cell_type": "code",
   "execution_count": 28,
   "id": "9913ece9",
   "metadata": {},
   "outputs": [
    {
     "name": "stdout",
     "output_type": "stream",
     "text": [
      "Even: [10, 30, 30]\n",
      "Odd: [41, 33, 55]\n"
     ]
    }
   ],
   "source": [
    "# Separate Even and Odd\n",
    "\n",
    "l = [10, 41, 30, 33, 55, 30]\n",
    "\n",
    "def separate_even_odd(l):\n",
    "    even = []\n",
    "    odd = []\n",
    "    for i in l:\n",
    "        if i % 2 == 0:\n",
    "            even.append(i)\n",
    "        else:\n",
    "            odd.append(i)\n",
    "    return even, odd\n",
    "even, odd = separate_even_odd(l)\n",
    "print(\"Even:\", even)  # Output: Even: [10, 30,\n",
    "print(\"Odd:\", odd)    # Output: Odd: [41, 33, 55]\n"
   ]
  },
  {
   "cell_type": "code",
   "execution_count": 29,
   "id": "872fba28",
   "metadata": {},
   "outputs": [
    {
     "name": "stdout",
     "output_type": "stream",
     "text": [
      "[10, 20]\n"
     ]
    }
   ],
   "source": [
    "def getSmaller(l,  x):\n",
    "    smaller = []\n",
    "    for i in l:\n",
    "        if i < x:\n",
    "            smaller.append(i)\n",
    "    return smaller\n",
    "l = [10, 20, 30, 40, 50]\n",
    "x = 30\n",
    "smaller = getSmaller(l, x)\n",
    "print(smaller)  # Output: [10, 20]"
   ]
  },
  {
   "cell_type": "code",
   "execution_count": 30,
   "id": "122c8c98",
   "metadata": {},
   "outputs": [
    {
     "name": "stdout",
     "output_type": "stream",
     "text": [
      "[10, 30, 50]\n"
     ]
    }
   ],
   "source": [
    "arr = [10, 20, 30, 40, 50]\n",
    "\n",
    "print(arr[0:len(arr):2])"
   ]
  },
  {
   "cell_type": "code",
   "execution_count": 31,
   "id": "2dafc19d",
   "metadata": {},
   "outputs": [
    {
     "name": "stdout",
     "output_type": "stream",
     "text": [
      "[0, 2, 4, 6, 8, 10]\n",
      "[1, 3, 5, 7, 9]\n"
     ]
    }
   ],
   "source": [
    "l = [ x for x in range(11) if x % 2 == 0]\n",
    "print(l)  # Output: [0, 2, 4, 6, 8, 10]\n",
    "l2 = [ x for x in range(11) if x % 2 != 0]\n",
    "print(l2)  # Output: [1, 3, 5, 7"
   ]
  },
  {
   "cell_type": "code",
   "execution_count": null,
   "id": "34260e28",
   "metadata": {},
   "outputs": [],
   "source": []
  }
 ],
 "metadata": {
  "kernelspec": {
   "display_name": "base",
   "language": "python",
   "name": "python3"
  },
  "language_info": {
   "codemirror_mode": {
    "name": "ipython",
    "version": 3
   },
   "file_extension": ".py",
   "mimetype": "text/x-python",
   "name": "python",
   "nbconvert_exporter": "python",
   "pygments_lexer": "ipython3",
   "version": "3.12.7"
  }
 },
 "nbformat": 4,
 "nbformat_minor": 5
}
