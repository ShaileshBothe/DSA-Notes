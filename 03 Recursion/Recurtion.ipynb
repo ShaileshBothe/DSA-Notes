{
 "cells": [
  {
   "cell_type": "code",
   "execution_count": 4,
   "id": "fd50f4c7",
   "metadata": {},
   "outputs": [
    {
     "name": "stdout",
     "output_type": "stream",
     "text": [
      "before fun1\n",
      "fun1 is called\n",
      "after fun1\n"
     ]
    }
   ],
   "source": [
    "def fun1():\n",
    "    print('fun1 is called')\n",
    "\n",
    "def fun2():\n",
    "    print('before fun1')\n",
    "    fun1()\n",
    "    print('after fun1')\n",
    "    \n",
    "\n",
    "if __name__ == '__main__':\n",
    "    fun2()"
   ]
  },
  {
   "cell_type": "code",
   "execution_count": null,
   "id": "dc38602c",
   "metadata": {},
   "outputs": [],
   "source": [
    "def fun(n):\n",
    "    if n <= 0:\n",
    "        return\n",
    "    print(\"GFG : \", n)\n",
    "    fun(n-1)\n",
    "\n",
    "fun(5)\n",
    "    \n",
    "    "
   ]
  },
  {
   "cell_type": "code",
   "execution_count": 8,
   "id": "1722c2f3",
   "metadata": {},
   "outputs": [
    {
     "name": "stdout",
     "output_type": "stream",
     "text": [
      "3\n",
      "2\n",
      "1\n",
      "1\n",
      "2\n",
      "3\n"
     ]
    }
   ],
   "source": [
    "def fun(n):\n",
    "    if n == 0:\n",
    "        return \n",
    "    print(n)\n",
    "    fun(n-1)\n",
    "    print(n)\n",
    "\n",
    "fun(3)"
   ]
  },
  {
   "cell_type": "code",
   "execution_count": 11,
   "id": "16a12f37",
   "metadata": {},
   "outputs": [
    {
     "name": "stdout",
     "output_type": "stream",
     "text": [
      "1\n",
      "2\n",
      "1\n",
      "3\n",
      "1\n",
      "2\n",
      "1\n"
     ]
    }
   ],
   "source": [
    "def fun(n):\n",
    "    if n == 0:\n",
    "        return \n",
    "    fun(n-1)\n",
    "    print(n)\n",
    "    fun(n-1)\n",
    "\n",
    "fun(3)"
   ]
  },
  {
   "cell_type": "code",
   "execution_count": 12,
   "id": "b11a20a4",
   "metadata": {},
   "outputs": [
    {
     "name": "stdout",
     "output_type": "stream",
     "text": [
      "6\n"
     ]
    }
   ],
   "source": [
    "print(13//2)"
   ]
  },
  {
   "cell_type": "code",
   "execution_count": 14,
   "id": "c1094799",
   "metadata": {},
   "outputs": [
    {
     "name": "stdout",
     "output_type": "stream",
     "text": [
      "1\n",
      "2\n",
      "3\n",
      "4\n",
      "5\n"
     ]
    }
   ],
   "source": [
    "def print1toN(n):\n",
    "    if n == 0:\n",
    "        return \n",
    "    print1toN(n-1)\n",
    "    print(n)\n",
    "\n",
    "print1toN(5)"
   ]
  },
  {
   "cell_type": "code",
   "execution_count": null,
   "id": "41b0432e",
   "metadata": {},
   "outputs": [
    {
     "name": "stdout",
     "output_type": "stream",
     "text": [
      "1 2\n",
      "3\n"
     ]
    }
   ],
   "source": []
  },
  {
   "cell_type": "code",
   "execution_count": null,
   "id": "b04070a7",
   "metadata": {},
   "outputs": [],
   "source": []
  }
 ],
 "metadata": {
  "kernelspec": {
   "display_name": "Python 3",
   "language": "python",
   "name": "python3"
  },
  "language_info": {
   "codemirror_mode": {
    "name": "ipython",
    "version": 3
   },
   "file_extension": ".py",
   "mimetype": "text/x-python",
   "name": "python",
   "nbconvert_exporter": "python",
   "pygments_lexer": "ipython3",
   "version": "3.11.5"
  }
 },
 "nbformat": 4,
 "nbformat_minor": 5
}
