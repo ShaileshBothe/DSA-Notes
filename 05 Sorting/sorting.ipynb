{
 "cells": [
  {
   "cell_type": "markdown",
   "id": "38f98a1c",
   "metadata": {},
   "source": [
    "# List sorting in python"
   ]
  },
  {
   "cell_type": "code",
   "execution_count": 1,
   "id": "2144f40a",
   "metadata": {},
   "outputs": [
    {
     "name": "stdout",
     "output_type": "stream",
     "text": [
      "[5, 5, 10, 10, 10, 15, 15, 20, 25, 30]\n"
     ]
    }
   ],
   "source": [
    "l1 = [5,10,15,10,5,10,15,20,25,30]\n",
    "l1.sort()\n",
    "print(l1)\n"
   ]
  },
  {
   "cell_type": "code",
   "execution_count": 2,
   "id": "ab62d6cc",
   "metadata": {},
   "outputs": [
    {
     "name": "stdout",
     "output_type": "stream",
     "text": [
      "[10, 5, 3, 1]\n"
     ]
    }
   ],
   "source": [
    "l2 = [1,5,3,10]\n",
    "l2.sort(reverse=True)\n",
    "print(l2)"
   ]
  },
  {
   "cell_type": "code",
   "execution_count": 5,
   "id": "260d2a0c",
   "metadata": {},
   "outputs": [
    {
     "name": "stdout",
     "output_type": "stream",
     "text": [
      "['is', 'gfg', 'for', 'best', 'geeks']\n"
     ]
    }
   ],
   "source": [
    "l = ['gfg', 'is', 'best', 'for', 'geeks']\n",
    "\n",
    "def myFun(p):\n",
    "    return len(p)\n",
    "l.sort(key=myFun)\n",
    "print(l)"
   ]
  },
  {
   "cell_type": "code",
   "execution_count": 6,
   "id": "1955759b",
   "metadata": {},
   "outputs": [
    {
     "name": "stdout",
     "output_type": "stream",
     "text": [
      "[5, 5, 10, 10, 10, 15, 15, 20, 25, 30]\n"
     ]
    }
   ],
   "source": [
    "## Sorted Method\n",
    "l = [5, 10, 15, 10, 5, 10, 15, 20, 25, 30]\n",
    "l2 = sorted(l)\n",
    "print(l2)"
   ]
  },
  {
   "cell_type": "code",
   "execution_count": 12,
   "id": "667d0848",
   "metadata": {},
   "outputs": [
    {
     "name": "stdout",
     "output_type": "stream",
     "text": [
      "['a', 'b', 'c', 'd', 'e']\n"
     ]
    }
   ],
   "source": [
    "Dic = {'a': 1, 'b': 2, 'c': 3, 'd': 4, 'e': 5}\n",
    "l2 = sorted(Dic)\n",
    "print(l2)"
   ]
  },
  {
   "cell_type": "code",
   "execution_count": null,
   "id": "2f897c9a",
   "metadata": {},
   "outputs": [
    {
     "name": "stdout",
     "output_type": "stream",
     "text": [
      "[['ram', 10], ['shyam', 20], ['mohan', 30], ['anil', 50]]\n"
     ]
    }
   ],
   "source": [
    "# stable and unstable sorting\n",
    "arr = [[\"anil\", 50], [\"ram\", 10], [\"shyam\", 20], [\"mohan\", 30]]\n",
    "l2 = sorted(arr, key=lambda x: x[1])\n",
    "print(l2)\n",
    "\n",
    "'''\n",
    "Example of stable sorting: Bubble Sort, Insertion Sort, Merge Sort\n",
    "Example of unstable sorting: Quick Sort, Heap Sort, Selection Sort\n",
    "\n",
    "'''"
   ]
  },
  {
   "cell_type": "code",
   "execution_count": null,
   "id": "d741893d",
   "metadata": {},
   "outputs": [],
   "source": []
  }
 ],
 "metadata": {
  "kernelspec": {
   "display_name": "base",
   "language": "python",
   "name": "python3"
  },
  "language_info": {
   "codemirror_mode": {
    "name": "ipython",
    "version": 3
   },
   "file_extension": ".py",
   "mimetype": "text/x-python",
   "name": "python",
   "nbconvert_exporter": "python",
   "pygments_lexer": "ipython3",
   "version": "3.12.7"
  }
 },
 "nbformat": 4,
 "nbformat_minor": 5
}
