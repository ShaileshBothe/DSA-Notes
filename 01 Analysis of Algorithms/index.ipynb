{
 "cells": [
  {
   "cell_type": "markdown",
   "id": "d86083a6",
   "metadata": {},
   "source": [
    "Analysis of Algorithms (Background)\n",
    "Before diving into your DSA journey, it’s crucial to understand Algorithm Analysis. This helps you evaluate and compare different algorithms to choose the most efficient one for a given problem. Let’s break it down in simple terms:\n",
    "\n",
    "What is Algorithm Analysis?\n",
    "Algorithm analysis is the process of evaluating the time and space resources required by an algorithm to solve a problem. It helps us predict how an algorithm will perform without actually running it on a computer.\n",
    "\n",
    "Why is Algorithm Analysis Important?\n",
    "Predict Behavior: It helps predict how an algorithm will perform under different conditions.\n",
    "Compare Algorithms: It allows us to compare different algorithms to choose the most efficient one.\n",
    "Save Time and Resources: Instead of implementing and testing every algorithm, analysis gives us a theoretical estimate of efficiency.\n",
    "Optimize Performance: By analyzing algorithms, we can identify bottlenecks and improve performance.\n",
    "Key Factors in Algorithm Analysis\n",
    "When analyzing algorithms, we focus on two main resources:\n",
    "\n",
    "Time Complexity: How much time does the algorithm take to run?\n",
    "Space Complexity: How much memory does the algorithm use?\n",
    "Example: Sum of Natural Numbers\n",
    "Let’s analyze three different algorithms to calculate the sum of the first n natural numbers:\n",
    "\n"
   ]
  },
  {
   "cell_type": "code",
   "execution_count": 1,
   "id": "c60bc168",
   "metadata": {},
   "outputs": [
    {
     "data": {
      "text/plain": [
       "5050"
      ]
     },
     "execution_count": 1,
     "metadata": {},
     "output_type": "execute_result"
    }
   ],
   "source": [
    "#Method 1: Mathematical Formula\n",
    "def sum(n):\n",
    "    return n * (n+1)//2\n",
    "\n",
    "sum(100)  # Output: 5050"
   ]
  },
  {
   "cell_type": "markdown",
   "id": "2c2701b6",
   "metadata": {},
   "source": [
    "Explanation: This uses a mathematical formula to calculate the sum in constant time.\n",
    "Time Complexity: O(1) – It takes the same amount of time regardless of the input size."
   ]
  },
  {
   "cell_type": "code",
   "execution_count": 4,
   "id": "04ffc8e4",
   "metadata": {},
   "outputs": [
    {
     "data": {
      "text/plain": [
       "5050"
      ]
     },
     "execution_count": 4,
     "metadata": {},
     "output_type": "execute_result"
    }
   ],
   "source": [
    "# Method 2: Iterative Approach\n",
    "def sum(n):\n",
    "    total = 0\n",
    "    for i in range(1, n+1):\n",
    "        total += i\n",
    "    return total\n",
    "sum(100)  # Output: 5050"
   ]
  },
  {
   "cell_type": "markdown",
   "id": "b3684235",
   "metadata": {},
   "source": [
    "Explanation: This uses a single loop to iterate through numbers from 1 to n and adds them to the total.\n",
    "Time Complexity: O(n) – The time taken grows linearly with the input size"
   ]
  },
  {
   "cell_type": "code",
   "execution_count": 10,
   "id": "086de2d5",
   "metadata": {},
   "outputs": [
    {
     "data": {
      "text/plain": [
       "5050"
      ]
     },
     "execution_count": 10,
     "metadata": {},
     "output_type": "execute_result"
    }
   ],
   "source": [
    "#Method 2: Nested Loops\n",
    "def sum(n):\n",
    "    total = 0\n",
    "    for i in range(1, n+1):\n",
    "        for j in range(1, i+1):\n",
    "            total+=1\n",
    "    return total\n",
    "sum(100)  # Output: 5050"
   ]
  },
  {
   "cell_type": "markdown",
   "id": "0614f66b",
   "metadata": {},
   "source": [
    "Explanation: This uses nested loops to calculate the sum. The inner loop runs multiple times for each iteration of the outer loop.\n",
    "Time Complexity: O(n²) – The time taken grows quadratically with the input size.\n",
    "Factors Affecting Time Efficiency\n",
    "Input Size (n): Larger inputs generally take more time to process.\n",
    "Hardware: A supercomputer will run the same algorithm faster than a slow computer.\n",
    "Programming Language: Some languages are faster than others (e.g., C++ is faster than JavaScript).\n",
    "Algorithm Design: The way an algorithm is designed (e.g., using loops, recursion) affects its efficiency.\n",
    "Key Takeaways\n",
    "Algorithm Analysis helps us predict and compare the efficiency of algorithms.\n",
    "Time Complexity is a measure of how fast an algorithm runs.\n",
    "Space Complexity is a measure of how much memory an algorithm uses.\n",
    "Choose the Right Algorithm: Always aim for the most efficient algorithm (lowest time and space complexity) for your problem."
   ]
  },
  {
   "cell_type": "markdown",
   "id": "c93ab43b",
   "metadata": {},
   "source": [
    "##Big O Notation, Omega Notation, Theta Notation"
   ]
  },
  {
   "cell_type": "code",
   "execution_count": 2,
   "id": "0ffe9a68",
   "metadata": {},
   "outputs": [
    {
     "data": {
      "text/plain": [
       "66795.0"
      ]
     },
     "execution_count": 2,
     "metadata": {},
     "output_type": "execute_result"
    }
   ],
   "source": [
    "def fun(n):\n",
    "    return n*(n+1)/2\n",
    "\n",
    "fun(365)  # Output: 5050"
   ]
  },
  {
   "cell_type": "code",
   "execution_count": 4,
   "id": "7c7f1e3d",
   "metadata": {},
   "outputs": [],
   "source": [
    "l = [10, 20, 30, 40, 50]"
   ]
  },
  {
   "cell_type": "code",
   "execution_count": 5,
   "id": "86069940",
   "metadata": {},
   "outputs": [
    {
     "name": "stdout",
     "output_type": "stream",
     "text": [
      "[10, 20, 30, 40, 50, 30]\n"
     ]
    }
   ],
   "source": [
    "l.append(30)\n",
    "print(l)  # Output: [10, 20, 30, 40, 50, 30]"
   ]
  },
  {
   "cell_type": "code",
   "execution_count": 6,
   "id": "32747854",
   "metadata": {},
   "outputs": [
    {
     "name": "stdout",
     "output_type": "stream",
     "text": [
      "[10, 20, 25, 30, 40, 50, 30]\n"
     ]
    }
   ],
   "source": [
    "l.insert(2, 25)\n",
    "print(l)  # Output: [10, 20, 25, 30, 40, 50, 30]"
   ]
  },
  {
   "cell_type": "code",
   "execution_count": 7,
   "id": "1261494d",
   "metadata": {},
   "outputs": [
    {
     "name": "stdout",
     "output_type": "stream",
     "text": [
      "True\n"
     ]
    }
   ],
   "source": [
    "print(25 in l)"
   ]
  },
  {
   "cell_type": "code",
   "execution_count": 8,
   "id": "7b5897f8",
   "metadata": {},
   "outputs": [
    {
     "name": "stdout",
     "output_type": "stream",
     "text": [
      "2\n"
     ]
    }
   ],
   "source": [
    "print(l.count(30))  # Output: 2"
   ]
  },
  {
   "cell_type": "code",
   "execution_count": 9,
   "id": "294eadbf",
   "metadata": {},
   "outputs": [
    {
     "name": "stdout",
     "output_type": "stream",
     "text": [
      "[25, 30, 40, 50, 30]\n"
     ]
    }
   ],
   "source": [
    "del l[0:2]\n",
    "print(l)  # Output: [25, 30, 40, 50, 30]"
   ]
  },
  {
   "cell_type": "code",
   "execution_count": null,
   "id": "c05dcc5e",
   "metadata": {},
   "outputs": [],
   "source": [
    "print(max(l)) "
   ]
  }
 ],
 "metadata": {
  "kernelspec": {
   "display_name": "base",
   "language": "python",
   "name": "python3"
  },
  "language_info": {
   "codemirror_mode": {
    "name": "ipython",
    "version": 3
   },
   "file_extension": ".py",
   "mimetype": "text/x-python",
   "name": "python",
   "nbconvert_exporter": "python",
   "pygments_lexer": "ipython3",
   "version": "3.12.7"
  }
 },
 "nbformat": 4,
 "nbformat_minor": 5
}
